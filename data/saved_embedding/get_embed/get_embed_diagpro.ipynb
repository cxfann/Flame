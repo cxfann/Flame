{
 "cells": [
  {
   "cell_type": "code",
   "execution_count": null,
   "metadata": {},
   "outputs": [],
   "source": [
    "model_path = 'Your/trained/MICRON/model/path'  ##\n",
    "\n",
    "diag_embed_path = 'data/save_embedding/diag_embed_micron.pkl'\n",
    "pro_embed_path = 'data/save_embedding/pro_embed_micron.pkl'"
   ]
  },
  {
   "cell_type": "code",
   "execution_count": null,
   "metadata": {},
   "outputs": [],
   "source": [
    "import torch\n",
    "import dill\n",
    "\n",
    "model = torch.load(model_path)\n",
    "\n",
    "diag_embed = model['embeddings.0.weight'].to('cpu')\n",
    "pro_embed = model['embeddings.1.weight'].to('cpu')\n",
    "\n",
    "diag_embed_dict = dict()\n",
    "pro_embed_dict = dict()\n",
    "\n",
    "for idx in range(diag_embed.shape[0]):\n",
    "    diag_embed_dict[idx] = diag_embed[idx]\n",
    "\n",
    "for idx in range(pro_embed.shape[0]):\n",
    "    pro_embed_dict[idx] = pro_embed[idx]\n",
    "\n",
    "dill.dump(diag_embed_dict, open(diag_embed_path, 'wb'))\n",
    "dill.dump(pro_embed_dict, open(pro_embed_path, 'wb'))\n"
   ]
  }
 ],
 "metadata": {
  "kernelspec": {
   "display_name": "vllm",
   "language": "python",
   "name": "python3"
  },
  "language_info": {
   "codemirror_mode": {
    "name": "ipython",
    "version": 3
   },
   "file_extension": ".py",
   "mimetype": "text/x-python",
   "name": "python",
   "nbconvert_exporter": "python",
   "pygments_lexer": "ipython3",
   "version": "3.9.18"
  }
 },
 "nbformat": 4,
 "nbformat_minor": 2
}
